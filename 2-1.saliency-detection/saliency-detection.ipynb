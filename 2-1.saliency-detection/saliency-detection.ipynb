{
 "cells": [
  {
   "cell_type": "code",
   "execution_count": 10,
   "metadata": {},
   "outputs": [],
   "source": [
    "import cv2\n",
    "import os\n",
    "\n",
    "import matplotlib.pyplot as plt\n",
    "%matplotlib inline"
   ]
  },
  {
   "cell_type": "code",
   "execution_count": null,
   "metadata": {},
   "outputs": [],
   "source": []
  },
  {
   "cell_type": "markdown",
   "metadata": {},
   "source": [
    "## Static Saliency Detection"
   ]
  },
  {
   "cell_type": "code",
   "execution_count": 9,
   "metadata": {},
   "outputs": [],
   "source": [
    "image_name = 'players.jpg'\n",
    "image_path = os.path.join('images/', image_name)\n",
    "                          \n",
    "image = cv2.imread(image_path)"
   ]
  },
  {
   "cell_type": "code",
   "execution_count": 10,
   "metadata": {},
   "outputs": [],
   "source": [
    "saliency = cv2.saliency.StaticSaliencySpectralResidual_create()\n",
    "(sucess, saliencyMap) = saliency.computeSaliency(image)\n",
    "saliencyMap = (saliencyMap * 255).astype(\"uint8\")"
   ]
  },
  {
   "cell_type": "code",
   "execution_count": 16,
   "metadata": {},
   "outputs": [
    {
     "data": {
      "text/plain": [
       "113"
      ]
     },
     "execution_count": 16,
     "metadata": {},
     "output_type": "execute_result"
    }
   ],
   "source": [
    "cv2.imshow(\"Image\", image)\n",
    "cv2.imshow(\"Output\", saliencyMap)\n",
    "cv2.waitKey(0)"
   ]
  },
  {
   "cell_type": "code",
   "execution_count": null,
   "metadata": {},
   "outputs": [],
   "source": []
  },
  {
   "cell_type": "code",
   "execution_count": 23,
   "metadata": {},
   "outputs": [
    {
     "data": {
      "text/plain": [
       "116"
      ]
     },
     "execution_count": 23,
     "metadata": {},
     "output_type": "execute_result"
    }
   ],
   "source": [
    "saliency = cv2.saliency.StaticSaliencyFineGrained_create()\n",
    "(_, saliencyMap) = saliency.computeSaliency(image)\n",
    "\n",
    "threshMap = cv2.threshold(saliencyMap.astype(\"uint8\"), 0, 255,\n",
    "    cv2.THRESH_BINARY | cv2.THRESH_OTSU)[1]\n",
    "\n",
    "cv2.imshow(\"Image\", image)\n",
    "cv2.imshow(\"Output\", saliencyMap)\n",
    "cv2.imshow(\"Thresh\", threshMap)\n",
    "cv2.waitKey(0)"
   ]
  },
  {
   "cell_type": "code",
   "execution_count": null,
   "metadata": {},
   "outputs": [],
   "source": []
  },
  {
   "cell_type": "markdown",
   "metadata": {},
   "source": [
    "## Objectness Saliency Detection"
   ]
  },
  {
   "cell_type": "code",
   "execution_count": 11,
   "metadata": {},
   "outputs": [],
   "source": [
    "import numpy as np\n",
    "import random"
   ]
  },
  {
   "cell_type": "code",
   "execution_count": 12,
   "metadata": {},
   "outputs": [],
   "source": [
    "model_path = 'objectness_trained_model' # Path to the bing model\n",
    "\n",
    "image_name = 'lawn_mower.jpg'\n",
    "image_path = os.path.join('images/', image_name)\n",
    "\n",
    "max_detections = 10"
   ]
  },
  {
   "cell_type": "code",
   "execution_count": null,
   "metadata": {},
   "outputs": [],
   "source": []
  },
  {
   "cell_type": "code",
   "execution_count": 13,
   "metadata": {},
   "outputs": [],
   "source": [
    "saliency = cv2.saliency.ObjectnessBING_create()\n",
    "saliency.setTrainingPath(model_path)\n",
    "\n",
    "image = cv2.imread(image_path)\n",
    "(_, saliencyMap) = saliency.computeSaliency(image)\n",
    "numDetections = saliencyMap.shape[0]"
   ]
  },
  {
   "cell_type": "code",
   "execution_count": 35,
   "metadata": {},
   "outputs": [],
   "source": [
    "rois = []\n",
    "locs = []\n",
    "\n",
    "if not os.path.isdir('output-objectness'):\n",
    "    os.mkdir('output-objectness')\n",
    "\n",
    "for i in range(0, min(numDetections, max_detections)):\n",
    "    \n",
    "    (startX, startY, endX, endY) = saliencyMap[i].flatten()\n",
    "    \n",
    "    rois.append(\n",
    "        cv2.resize(image[startY:endY, startX: endX].copy(), dsize=(224, 224))\n",
    "    )\n",
    "    \n",
    "    locs.append(\n",
    "        (startX, startY, endX, endY,)\n",
    "    )\n",
    "    \n",
    "    output = image.copy()\n",
    "    color = [random.randint(0, 255) for _ in range(3)]\n",
    "    cv2.rectangle(output, (startX, startY), (endX, endY), color, 2)\n",
    "    cv2.imwrite('output-objectness/output-{}-{}.jpg'.format(image_name, i), output)"
   ]
  },
  {
   "cell_type": "code",
   "execution_count": null,
   "metadata": {},
   "outputs": [],
   "source": []
  },
  {
   "cell_type": "markdown",
   "metadata": {},
   "source": [
    "## Classification using Keras` ResNet-50 pretrained on ImageNet dataset"
   ]
  },
  {
   "cell_type": "code",
   "execution_count": 46,
   "metadata": {},
   "outputs": [],
   "source": [
    "from tensorflow.keras.applications import ResNet50\n",
    "\n",
    "from tensorflow.keras.preprocessing.image import img_to_array\n",
    "from tensorflow.keras.applications.resnet import preprocess_input, decode_predictions\n",
    "from tensorflow.keras.applications import imagenet_utils\n",
    "\n",
    "min_conf = 0.9"
   ]
  },
  {
   "cell_type": "code",
   "execution_count": null,
   "metadata": {},
   "outputs": [],
   "source": []
  },
  {
   "cell_type": "code",
   "execution_count": 5,
   "metadata": {},
   "outputs": [],
   "source": [
    "model = ResNet50(include_top=True, weights='imagenet')"
   ]
  },
  {
   "cell_type": "code",
   "execution_count": 16,
   "metadata": {},
   "outputs": [
    {
     "data": {
      "text/plain": [
       "<tf.Tensor 'input_3:0' shape=(None, 224, 224, 3) dtype=float32>"
      ]
     },
     "execution_count": 16,
     "metadata": {},
     "output_type": "execute_result"
    }
   ],
   "source": [
    "model.input"
   ]
  },
  {
   "cell_type": "code",
   "execution_count": 28,
   "metadata": {},
   "outputs": [],
   "source": [
    "rois_np = np.array(rois, dtype=np.float32)"
   ]
  },
  {
   "cell_type": "code",
   "execution_count": 40,
   "metadata": {},
   "outputs": [],
   "source": [
    "preds = model.predict(rois_np)"
   ]
  },
  {
   "cell_type": "code",
   "execution_count": 41,
   "metadata": {},
   "outputs": [],
   "source": [
    "preds = decode_predictions(predictions)"
   ]
  },
  {
   "cell_type": "code",
   "execution_count": 42,
   "metadata": {
    "collapsed": true,
    "jupyter": {
     "outputs_hidden": true
    }
   },
   "outputs": [
    {
     "data": {
      "text/plain": [
       "[[('n03649909', 'lawn_mower', 0.2526769),\n",
       "  ('n03447447', 'gondola', 0.07704152),\n",
       "  ('n04371774', 'swing', 0.069782294),\n",
       "  ('n03494278', 'harmonica', 0.04661175),\n",
       "  ('n04458633', 'totem_pole', 0.033786263)],\n",
       " [('n03649909', 'lawn_mower', 0.9997409),\n",
       "  ('n04517823', 'vacuum', 0.00016471985),\n",
       "  ('n03445924', 'golfcart', 2.2741737e-05),\n",
       "  ('n03444034', 'go-kart', 2.1669255e-05),\n",
       "  ('n03496892', 'harvester', 1.0536055e-05)],\n",
       " [('n03649909', 'lawn_mower', 0.5633034),\n",
       "  ('n04371774', 'swing', 0.1993093),\n",
       "  ('n04149813', 'scoreboard', 0.0137708),\n",
       "  ('n02992529', 'cellular_telephone', 0.0133657595),\n",
       "  ('n04392985', 'tape_player', 0.013244898)],\n",
       " [('n02097130', 'giant_schnauzer', 0.19251718),\n",
       "  ('n02113799', 'standard_poodle', 0.13733858),\n",
       "  ('n02106382', 'Bouvier_des_Flandres', 0.056928404),\n",
       "  ('n03733281', 'maze', 0.044826943),\n",
       "  ('n03134739', 'croquet_ball', 0.039279494)],\n",
       " [('n03649909', 'lawn_mower', 0.7112184),\n",
       "  ('n03444034', 'go-kart', 0.12987748),\n",
       "  ('n02951358', 'canoe', 0.041870445),\n",
       "  ('n03584829', 'iron', 0.007922102),\n",
       "  ('n04465501', 'tractor', 0.0064300424)],\n",
       " [('n03649909', 'lawn_mower', 0.99915147),\n",
       "  ('n03444034', 'go-kart', 0.0005896801),\n",
       "  ('n04336792', 'stretcher', 5.3872525e-05),\n",
       "  ('n03496892', 'harvester', 5.138273e-05),\n",
       "  ('n04542943', 'waffle_iron', 2.8574015e-05)],\n",
       " [('n03649909', 'lawn_mower', 0.9977391),\n",
       "  ('n03496892', 'harvester', 0.0007292326),\n",
       "  ('n03444034', 'go-kart', 0.0006092792),\n",
       "  ('n02797295', 'barrow', 0.00039656914),\n",
       "  ('n04428191', 'thresher', 0.00015054106)],\n",
       " [('n03649909', 'lawn_mower', 0.63917905),\n",
       "  ('n04371774', 'swing', 0.09768338),\n",
       "  ('n02097130', 'giant_schnauzer', 0.02182991),\n",
       "  ('n03594945', 'jeep', 0.020070247),\n",
       "  ('n02104365', 'schipperke', 0.008096749)],\n",
       " [('n03649909', 'lawn_mower', 0.9985746),\n",
       "  ('n03444034', 'go-kart', 0.0012427112),\n",
       "  ('n02951358', 'canoe', 0.00010953555),\n",
       "  ('n03496892', 'harvester', 2.1444166e-05),\n",
       "  ('n04542943', 'waffle_iron', 7.778601e-06)],\n",
       " [('n03649909', 'lawn_mower', 0.83881736),\n",
       "  ('n02797295', 'barrow', 0.11401808),\n",
       "  ('n03444034', 'go-kart', 0.024032231),\n",
       "  ('n04336792', 'stretcher', 0.012710183),\n",
       "  ('n03496892', 'harvester', 0.002838945)]]"
      ]
     },
     "execution_count": 42,
     "metadata": {},
     "output_type": "execute_result"
    }
   ],
   "source": [
    "preds"
   ]
  },
  {
   "cell_type": "code",
   "execution_count": null,
   "metadata": {},
   "outputs": [],
   "source": [
    "labels = {}\n",
    "for (i, p) in enumerate(preds):\n",
    "    (imagenetID, label, prob) = p[0]\n",
    "    \n",
    "    if prob > min_conf:\n",
    "        box = locs[i]\n",
    "        \n",
    "        L = labels.get(label, [])\n",
    "        L.append((box, prob))\n",
    "        labels[label] = L"
   ]
  },
  {
   "cell_type": "code",
   "execution_count": 43,
   "metadata": {},
   "outputs": [
    {
     "data": {
      "text/plain": [
       "[('n03649909', 'lawn_mower', 0.99915147),\n",
       " ('n03444034', 'go-kart', 0.0005896801),\n",
       " ('n04336792', 'stretcher', 5.3872525e-05),\n",
       " ('n03496892', 'harvester', 5.138273e-05),\n",
       " ('n04542943', 'waffle_iron', 2.8574015e-05)]"
      ]
     },
     "execution_count": 43,
     "metadata": {},
     "output_type": "execute_result"
    }
   ],
   "source": [
    "preds[5]"
   ]
  },
  {
   "cell_type": "code",
   "execution_count": 47,
   "metadata": {},
   "outputs": [],
   "source": [
    "labels = {}\n",
    "\n",
    "for (i, p) in enumerate(preds):\n",
    "    (imagenetID, label, prob) = p[0]\n",
    "    \n",
    "    if prob > min_conf:\n",
    "        box = locs[i]\n",
    "        \n",
    "        L = labels.get(label, [])\n",
    "        L.append((box, prob))\n",
    "        labels[label] = L"
   ]
  },
  {
   "cell_type": "code",
   "execution_count": null,
   "metadata": {},
   "outputs": [],
   "source": []
  }
 ],
 "metadata": {
  "kernelspec": {
   "display_name": "Python 3",
   "language": "python",
   "name": "python3"
  },
  "language_info": {
   "codemirror_mode": {
    "name": "ipython",
    "version": 3
   },
   "file_extension": ".py",
   "mimetype": "text/x-python",
   "name": "python",
   "nbconvert_exporter": "python",
   "pygments_lexer": "ipython3",
   "version": "3.7.3"
  }
 },
 "nbformat": 4,
 "nbformat_minor": 4
}
