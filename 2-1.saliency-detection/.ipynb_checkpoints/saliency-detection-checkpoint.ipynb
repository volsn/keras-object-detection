{
 "cells": [
  {
   "cell_type": "code",
   "execution_count": 4,
   "metadata": {},
   "outputs": [],
   "source": [
    "import cv2\n",
    "import os\n",
    "\n",
    "import matplotlib.pyplot as plt\n",
    "%matplotlib inline"
   ]
  },
  {
   "cell_type": "code",
   "execution_count": null,
   "metadata": {},
   "outputs": [],
   "source": []
  },
  {
   "cell_type": "markdown",
   "metadata": {},
   "source": [
    "## Static Saliency Detection"
   ]
  },
  {
   "cell_type": "code",
   "execution_count": 14,
   "metadata": {},
   "outputs": [],
   "source": [
    "image_path = 'images/players.jpg'\n",
    "image = cv2.imread(image_path)"
   ]
  },
  {
   "cell_type": "code",
   "execution_count": 15,
   "metadata": {},
   "outputs": [],
   "source": [
    "saliency = cv2.saliency.StaticSaliencySpectralResidual_create()\n",
    "(sucess, saliencyMap) = saliency.computeSaliency(image)\n",
    "saliencyMap = (saliencyMap * 255).astype(\"uint8\")"
   ]
  },
  {
   "cell_type": "code",
   "execution_count": 16,
   "metadata": {},
   "outputs": [
    {
     "data": {
      "text/plain": [
       "113"
      ]
     },
     "execution_count": 16,
     "metadata": {},
     "output_type": "execute_result"
    }
   ],
   "source": [
    "cv2.imshow(\"Image\", image)\n",
    "cv2.imshow(\"Output\", saliencyMap)\n",
    "cv2.waitKey(0)"
   ]
  },
  {
   "cell_type": "code",
   "execution_count": null,
   "metadata": {},
   "outputs": [],
   "source": []
  },
  {
   "cell_type": "code",
   "execution_count": 23,
   "metadata": {},
   "outputs": [
    {
     "data": {
      "text/plain": [
       "116"
      ]
     },
     "execution_count": 23,
     "metadata": {},
     "output_type": "execute_result"
    }
   ],
   "source": [
    "saliency = cv2.saliency.StaticSaliencyFineGrained_create()\n",
    "(_, saliencyMap) = saliency.computeSaliency(image)\n",
    "\n",
    "threshMap = cv2.threshold(saliencyMap.astype(\"uint8\"), 0, 255,\n",
    "    cv2.THRESH_BINARY | cv2.THRESH_OTSU)[1]\n",
    "\n",
    "cv2.imshow(\"Image\", image)\n",
    "cv2.imshow(\"Output\", saliencyMap)\n",
    "cv2.imshow(\"Thresh\", threshMap)\n",
    "cv2.waitKey(0)"
   ]
  },
  {
   "cell_type": "code",
   "execution_count": null,
   "metadata": {},
   "outputs": [],
   "source": []
  },
  {
   "cell_type": "markdown",
   "metadata": {},
   "source": [
    "## Objectness Saliency Detection"
   ]
  },
  {
   "cell_type": "code",
   "execution_count": 47,
   "metadata": {},
   "outputs": [],
   "source": [
    "import numpy as np\n",
    "import random"
   ]
  },
  {
   "cell_type": "code",
   "execution_count": 48,
   "metadata": {},
   "outputs": [],
   "source": [
    "model_path = 'objectness_trained_model' # Path to the bing model\n",
    "image_path = 'images/boat.jpg'\n",
    "max_detections = 10"
   ]
  },
  {
   "cell_type": "code",
   "execution_count": null,
   "metadata": {},
   "outputs": [],
   "source": []
  },
  {
   "cell_type": "code",
   "execution_count": 49,
   "metadata": {},
   "outputs": [],
   "source": [
    "saliency = cv2.saliency.ObjectnessBING_create()\n",
    "saliency.setTrainingPath(model_path)\n",
    "\n",
    "image = cv2.imread(image_path)\n",
    "(_, saliencyMap) = saliency.computeSaliency(image)\n",
    "numDetections = saliencyMap.shape[0]"
   ]
  },
  {
   "cell_type": "code",
   "execution_count": 50,
   "metadata": {},
   "outputs": [],
   "source": [
    "if not os.path.isdir('output-objectness'):\n",
    "    os.mkdir('output-objectness')\n",
    "\n",
    "for i in range(0, min(numDetections, max_detections)):\n",
    "    \n",
    "    (startX, startY, endX, endY) = saliencyMap[i].flatten()\n",
    "    \n",
    "    output = image.copy()\n",
    "    color = [random.randint(0, 255) for _ in range(3)]\n",
    "    cv2.rectangle(output, (startX, startY), (endX, endY), color, 2)\n",
    "    cv2.imwrite('output/output_{}.jpg'.format(i), output)"
   ]
  },
  {
   "cell_type": "code",
   "execution_count": null,
   "metadata": {},
   "outputs": [],
   "source": []
  },
  {
   "cell_type": "code",
   "execution_count": null,
   "metadata": {},
   "outputs": [],
   "source": []
  },
  {
   "cell_type": "code",
   "execution_count": null,
   "metadata": {},
   "outputs": [],
   "source": [
    "# loop over the detections\n",
    "for i in range(0, min(numDetections, args[\"max_detections\"])):\n",
    "\t# extract the bounding box coordinates\n",
    "\t(startX, startY, endX, endY) = saliencyMap[i].flatten()\n",
    "\t\n",
    "\t# randomly generate a color for the object and draw it on the image\n",
    "\toutput = image.copy()\n",
    "\tcolor = np.random.randint(0, 255, size=(3,))\n",
    "\tcolor = [int(c) for c in color]\n",
    "\tcv2.rectangle(output, (startX, startY), (endX, endY), color, 2)\n",
    "\t# show the output image\n",
    "\tcv2.imshow(\"Image\", output)\n",
    "\tcv2.waitKey(0)"
   ]
  },
  {
   "cell_type": "code",
   "execution_count": null,
   "metadata": {},
   "outputs": [],
   "source": []
  },
  {
   "cell_type": "code",
   "execution_count": null,
   "metadata": {},
   "outputs": [],
   "source": []
  },
  {
   "cell_type": "code",
   "execution_count": null,
   "metadata": {},
   "outputs": [],
   "source": []
  },
  {
   "cell_type": "code",
   "execution_count": null,
   "metadata": {},
   "outputs": [],
   "source": []
  },
  {
   "cell_type": "code",
   "execution_count": null,
   "metadata": {},
   "outputs": [],
   "source": []
  },
  {
   "cell_type": "code",
   "execution_count": null,
   "metadata": {},
   "outputs": [],
   "source": []
  },
  {
   "cell_type": "code",
   "execution_count": null,
   "metadata": {},
   "outputs": [],
   "source": []
  },
  {
   "cell_type": "code",
   "execution_count": null,
   "metadata": {},
   "outputs": [],
   "source": []
  },
  {
   "cell_type": "code",
   "execution_count": null,
   "metadata": {},
   "outputs": [],
   "source": []
  },
  {
   "cell_type": "code",
   "execution_count": null,
   "metadata": {},
   "outputs": [],
   "source": []
  },
  {
   "cell_type": "code",
   "execution_count": null,
   "metadata": {},
   "outputs": [],
   "source": []
  }
 ],
 "metadata": {
  "kernelspec": {
   "display_name": "Python 3",
   "language": "python",
   "name": "python3"
  },
  "language_info": {
   "codemirror_mode": {
    "name": "ipython",
    "version": 3
   },
   "file_extension": ".py",
   "mimetype": "text/x-python",
   "name": "python",
   "nbconvert_exporter": "python",
   "pygments_lexer": "ipython3",
   "version": "3.7.3"
  }
 },
 "nbformat": 4,
 "nbformat_minor": 4
}
