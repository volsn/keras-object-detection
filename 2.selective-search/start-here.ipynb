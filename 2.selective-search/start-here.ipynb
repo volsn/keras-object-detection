{
 "cells": [
  {
   "cell_type": "code",
   "execution_count": 9,
   "metadata": {},
   "outputs": [],
   "source": [
    "import random\n",
    "import time\n",
    "import cv2\n",
    "\n",
    "import matplotlib.pyplot as plt\n",
    "%matplotlib inline\n",
    "\n",
    "image_path = 'dog.jpg'\n",
    "method = 'fast' # other option in 'quality'"
   ]
  },
  {
   "cell_type": "code",
   "execution_count": null,
   "metadata": {},
   "outputs": [],
   "source": []
  },
  {
   "cell_type": "code",
   "execution_count": 10,
   "metadata": {},
   "outputs": [
    {
     "name": "stdout",
     "output_type": "stream",
     "text": [
      "[INFO] using *fast* selective search\n"
     ]
    }
   ],
   "source": [
    "image = cv2.imread(image_path)\n",
    "\n",
    "# initialize OpenCV's selective search implementation and set the\n",
    "# input image\n",
    "ss = cv2.ximgproc.segmentation.createSelectiveSearchSegmentation()\n",
    "ss.setBaseImage(image)\n",
    "\n",
    "if method == 'fast':\n",
    "    print(\"[INFO] using *fast* selective search\")\n",
    "    ss.switchToSelectiveSearchFast()\n",
    "else:\n",
    "    print(\"[INFO] using *quality* selective search\")\n",
    "    ss.switchToSelectiveSearchQuality()"
   ]
  },
  {
   "cell_type": "code",
   "execution_count": 11,
   "metadata": {},
   "outputs": [
    {
     "name": "stdout",
     "output_type": "stream",
     "text": [
      "[INFO] selective search took 1.6062 seconds\n",
      "[INFO] 1219 total region proposals\n"
     ]
    }
   ],
   "source": [
    "start = time.time()\n",
    "rects = ss.process()\n",
    "end = time.time()\n",
    "\n",
    "print(\"[INFO] selective search took {:.4f} seconds\".format(end - start))\n",
    "print(\"[INFO] {} total region proposals\".format(len(rects)))"
   ]
  },
  {
   "cell_type": "code",
   "execution_count": 15,
   "metadata": {},
   "outputs": [],
   "source": [
    "for i in range(0, len(rects), 100):\n",
    "    output = image.copy()\n",
    "    \n",
    "    for (x, y, w, h) in rects[i:i + 100]:\n",
    "        color = [random.randint(0, 255) for j in range(0, 3)]\n",
    "        cv2.rectangle(output, (x, y), (x + w, y + h), color, 2)\n",
    "        \n",
    "    cv2.imshow(\"Output\", output)\n",
    "    key = cv2.waitKey(0) & 0xFF\n",
    "    \n",
    "    if key == ord('q'):\n",
    "        break"
   ]
  },
  {
   "cell_type": "code",
   "execution_count": null,
   "metadata": {},
   "outputs": [],
   "source": []
  },
  {
   "cell_type": "code",
   "execution_count": null,
   "metadata": {},
   "outputs": [],
   "source": []
  },
  {
   "cell_type": "code",
   "execution_count": null,
   "metadata": {},
   "outputs": [],
   "source": []
  },
  {
   "cell_type": "code",
   "execution_count": null,
   "metadata": {},
   "outputs": [],
   "source": []
  },
  {
   "cell_type": "code",
   "execution_count": null,
   "metadata": {},
   "outputs": [],
   "source": [
    "# loop over the region proposals in chunks (so we can better\n",
    "# visualize them)\n",
    "for i in range(0, len(rects), 100):\n",
    "\t# clone the original image so we can draw on it\n",
    "\toutput = image.copy()\n",
    "\t# loop over the current subset of region proposals\n",
    "\tfor (x, y, w, h) in rects[i:i + 100]:\n",
    "\t\t# draw the region proposal bounding box on the image\n",
    "\t\tcolor = [random.randint(0, 255) for j in range(0, 3)]\n",
    "\t\tcv2.rectangle(output, (x, y), (x + w, y + h), color, 2)\n",
    "\t# show the output image\n",
    "\tcv2.imshow(\"Output\", output)\n",
    "\tkey = cv2.waitKey(0) & 0xFF\n",
    "\t# if the `q` key was pressed, break from the loop\n",
    "\tif key == ord(\"q\"):\n",
    "\t\tbreak"
   ]
  },
  {
   "cell_type": "code",
   "execution_count": null,
   "metadata": {},
   "outputs": [],
   "source": []
  },
  {
   "cell_type": "code",
   "execution_count": null,
   "metadata": {},
   "outputs": [],
   "source": []
  }
 ],
 "metadata": {
  "kernelspec": {
   "display_name": "Python 3",
   "language": "python",
   "name": "python3"
  },
  "language_info": {
   "codemirror_mode": {
    "name": "ipython",
    "version": 3
   },
   "file_extension": ".py",
   "mimetype": "text/x-python",
   "name": "python",
   "nbconvert_exporter": "python",
   "pygments_lexer": "ipython3",
   "version": "3.7.3"
  }
 },
 "nbformat": 4,
 "nbformat_minor": 4
}
