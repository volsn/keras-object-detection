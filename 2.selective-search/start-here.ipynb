{
 "cells": [
  {
   "cell_type": "code",
   "execution_count": 79,
   "metadata": {},
   "outputs": [],
   "source": [
    "import random\n",
    "import time\n",
    "import cv2\n",
    "\n",
    "import numpy as np\n",
    "import imutils\n",
    "\n",
    "# importing stuff needed for image classification\n",
    "from tensorflow.keras.applications import ResNet50\n",
    "from tensorflow.keras.applications.resnet import preprocess_input\n",
    "from tensorflow.keras.preprocessing.image import img_to_array\n",
    "from tensorflow.keras.applications import imagenet_utils\n",
    "from imutils.object_detection import non_max_suppression\n",
    "\n",
    "import matplotlib.pyplot as plt\n",
    "%matplotlib inline\n",
    "\n",
    "\n",
    "# Defining some imporatant variables\n",
    "image_path = 'dog.jpg'\n",
    "method = 'fast' # other option in 'quality'\n",
    "write_output = True\n",
    "INPUT_SIZE = (224, 224)\n",
    "N_pred = 1000\n",
    "min_conf = 0.8"
   ]
  },
  {
   "cell_type": "code",
   "execution_count": null,
   "metadata": {},
   "outputs": [],
   "source": []
  },
  {
   "cell_type": "code",
   "execution_count": 72,
   "metadata": {},
   "outputs": [
    {
     "name": "stdout",
     "output_type": "stream",
     "text": [
      "[INFO] using *fast* selective search\n"
     ]
    }
   ],
   "source": [
    "image = cv2.imread(image_path)\n",
    "\n",
    "# initialize OpenCV's selective search implementation and set the\n",
    "# input image\n",
    "ss = cv2.ximgproc.segmentation.createSelectiveSearchSegmentation()\n",
    "ss.setBaseImage(image)\n",
    "\n",
    "if method == 'fast':\n",
    "    print(\"[INFO] using *fast* selective search\")\n",
    "    ss.switchToSelectiveSearchFast()\n",
    "else:\n",
    "    print(\"[INFO] using *quality* selective search\")\n",
    "    ss.switchToSelectiveSearchQuality()"
   ]
  },
  {
   "cell_type": "code",
   "execution_count": 73,
   "metadata": {},
   "outputs": [
    {
     "name": "stdout",
     "output_type": "stream",
     "text": [
      "[INFO] selective search took 1.5433 seconds\n",
      "[INFO] 1219 total region proposals\n"
     ]
    }
   ],
   "source": [
    "start = time.time()\n",
    "rects = ss.process()\n",
    "end = time.time()\n",
    "\n",
    "print(\"[INFO] selective search took {:.4f} seconds\".format(end - start))\n",
    "print(\"[INFO] {} total region proposals\".format(len(rects)))"
   ]
  },
  {
   "cell_type": "code",
   "execution_count": 74,
   "metadata": {},
   "outputs": [],
   "source": [
    "rois = []\n",
    "locs = []\n",
    "\n",
    "for i in range(0, len(rects), 100):\n",
    "    output = image.copy()\n",
    "    \n",
    "    for (x, y, w, h) in rects[i:i + 100]:\n",
    "\n",
    "        rois.append(\n",
    "            preprocess_input(\n",
    "                img_to_array(\n",
    "                    cv2.resize(\n",
    "                        image[y:y+h, x:x+w]\n",
    "                    ,INPUT_SIZE)\n",
    "                )\n",
    "            )\n",
    "        )\n",
    "        locs.append((x, y, x + w, y + h))\n",
    "        \n",
    "        if write_output:\n",
    "            color = [random.randint(0, 255) for j in range(0, 3)]\n",
    "            cv2.rectangle(output, (x, y), (x + w, y + h), color, 2)\n",
    "    \n",
    "    if write_output:\n",
    "        cv2.imwrite('output-fast.jpg', output)\n",
    "        \n",
    "rois = np.array(rois, dtype=np.float32)"
   ]
  },
  {
   "cell_type": "code",
   "execution_count": null,
   "metadata": {},
   "outputs": [],
   "source": []
  },
  {
   "cell_type": "code",
   "execution_count": 80,
   "metadata": {},
   "outputs": [],
   "source": [
    "# Loading Keras model\n",
    "model = ResNet50(weights=\"imagenet\", include_top=True)\n",
    "\n",
    "# Prediciting classes\n",
    "preds = model.predict(rois[:N_pred])\n",
    "preds = imagenet_utils.decode_predictions(preds, top=1)\n",
    "\n",
    "\n",
    "labels = {}\n",
    "for (i, p) in enumerate(preds):\n",
    "    (imagenetID, label, prob) = p[0]\n",
    "    \n",
    "    if prob > min_conf:\n",
    "        box = locs[i]\n",
    "        \n",
    "        L = labels.get(label, [])\n",
    "        L.append((box, prob))\n",
    "        labels[label] = L"
   ]
  },
  {
   "cell_type": "code",
   "execution_count": 81,
   "metadata": {},
   "outputs": [
    {
     "name": "stdout",
     "output_type": "stream",
     "text": [
      "Labels found in the image: theater_curtain, dugong, shower_curtain, ski, Sealyham_terrier, milk_can, toy_terrier, platypus\n",
      "What the fuck?\n"
     ]
    }
   ],
   "source": [
    "print(\"Labels found in the image:\", ', '.join(labels.keys()))\n",
    "print(\"What the fuck?\")"
   ]
  },
  {
   "cell_type": "code",
   "execution_count": 82,
   "metadata": {},
   "outputs": [],
   "source": [
    "clone = image.copy()\n",
    "for label in labels.keys():\n",
    "    \n",
    "    boxes = np.array([p[0] for p in labels[label]])\n",
    "    proba = np.array([p[1] for p in labels[label]])\n",
    "    boxes = non_max_suppression(boxes, proba)\n",
    "    \n",
    "    for (startX, startY, endX, endY) in boxes:\n",
    "        cv2.rectangle(clone, (startX, startY), (endX, endY),\n",
    "            (0, 255, 0), 2)\n",
    "        y = startY - 10 if startY - 10 > 10 else startY + 10\n",
    "        cv2.putText(clone, label, (startX, y),\n",
    "                cv2.FONT_HERSHEY_SIMPLEX, 0.45, (0, 255, 0), 2)"
   ]
  },
  {
   "cell_type": "code",
   "execution_count": 83,
   "metadata": {},
   "outputs": [
    {
     "data": {
      "text/plain": [
       "True"
      ]
     },
     "execution_count": 83,
     "metadata": {},
     "output_type": "execute_result"
    }
   ],
   "source": [
    "cv2.imwrite('output_classifier.jpg', clone)"
   ]
  },
  {
   "cell_type": "code",
   "execution_count": null,
   "metadata": {},
   "outputs": [],
   "source": []
  }
 ],
 "metadata": {
  "kernelspec": {
   "display_name": "Python 3",
   "language": "python",
   "name": "python3"
  },
  "language_info": {
   "codemirror_mode": {
    "name": "ipython",
    "version": 3
   },
   "file_extension": ".py",
   "mimetype": "text/x-python",
   "name": "python",
   "nbconvert_exporter": "python",
   "pygments_lexer": "ipython3",
   "version": "3.7.3"
  }
 },
 "nbformat": 4,
 "nbformat_minor": 4
}
